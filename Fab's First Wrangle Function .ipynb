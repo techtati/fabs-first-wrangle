{
 "cells": [
  {
   "cell_type": "code",
   "execution_count": null,
   "id": "36461309",
   "metadata": {},
   "outputs": [],
   "source": [
    "(def wrangle(filepath):\n",
    "    # Read CSV fiile into DataFrame\n",
    "    df = pd.read_csv(filepath)\n",
    "    \n",
    "    # Subset to properties in '\"Capital Federal\"'\n",
    "    mask_ba = df[\"place_with_parent_names\"].str.contains(\"Capital Federal\")\n",
    "    # Subset to '\"apartments\"'\n",
    "    mask_apt = df[\"property_type\"] == \"apartment\"\n",
    "    # Subset to properties where '\"price_aprox_usd\"' < 400000\n",
    "    mask_price = df[\"price_aprox_usd\"] < 400_000\n",
    "    \n",
    "    df = df[mask_ba & mask_apt & mask_price]\n",
    "    \n",
    "    # Remove outliers by '\"surface_covered_in_m2\"'\n",
    "    low,high = df[\"surface_covered_in_m2\"].quantile([0.1, 0.9])\n",
    "    mask_area = df[\"surface_covered_in_m2\"].between(low,high)\n",
    "    df = df[mask_area]\n",
    " \n",
    "    return df"
   ]
  }
 ],
 "metadata": {
  "kernelspec": {
   "display_name": "Python 3 (ipykernel)",
   "language": "python",
   "name": "python3"
  },
  "language_info": {
   "codemirror_mode": {
    "name": "ipython",
    "version": 3
   },
   "file_extension": ".py",
   "mimetype": "text/x-python",
   "name": "python",
   "nbconvert_exporter": "python",
   "pygments_lexer": "ipython3",
   "version": "3.9.7"
  }
 },
 "nbformat": 4,
 "nbformat_minor": 5
}
